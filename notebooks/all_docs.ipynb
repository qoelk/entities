{
 "cells": [
  {
   "cell_type": "code",
   "execution_count": 1,
   "id": "initial_id",
   "metadata": {
    "collapsed": true,
    "ExecuteTime": {
     "end_time": "2023-11-01T22:13:18.935759Z",
     "start_time": "2023-11-01T22:12:16.904624Z"
    }
   },
   "outputs": [
    {
     "name": "stdout",
     "output_type": "stream",
     "text": [
      "Number of documents: 39\n",
      "Number of time intervals: 165\n",
      "Number of graphs: 39\n",
      "Number of nodes: 2252\n",
      "Number of edges: 1189\n",
      "Number of nodes with edges: 1299\n",
      "Number of nodes without edges: 953\n",
      "Orphaned nodes percentage: 42.317939609236234\n"
     ]
    }
   ],
   "source": [
    "from extractor import DocumentGraphExtractor\n",
    "import os\n",
    "\n",
    "docs = []\n",
    "path = '../data/'\n",
    "for f in os.listdir(path):\n",
    "    if f.endswith('.txt'):\n",
    "        with open(os.path.join(path, f), 'r') as file:\n",
    "            docs.append(file.read())\n",
    "            \n",
    "print('Number of documents:', len(docs))\n",
    "extractors = [DocumentGraphExtractor(doc) for doc in docs]\n",
    "graphs = [extractor.extract_from_text() for extractor in extractors]\n",
    "\n",
    "time_intervals_count = sum([len(extractor.time_intervals) for extractor in extractors])\n",
    "print('Number of time intervals:', time_intervals_count)\n",
    "\n",
    "graphs_count = len(graphs)\n",
    "print('Number of graphs:', graphs_count)\n",
    "\n",
    "nodes_count = sum([len(nodes) for nodes, edges in graphs])\n",
    "print('Number of nodes:', nodes_count)\n",
    "\n",
    "edges_count = sum([len(edges) for nodes, edges in graphs])\n",
    "print('Number of edges:', edges_count)\n",
    "\n",
    "text_nodes = []\n",
    "text_edges = []\n",
    "\n",
    "for nodes, edges in graphs:\n",
    "    text_nodes.extend(nodes)\n",
    "    text_edges.extend(edges)\n",
    "    \n",
    "orphaned_nodes = set()\n",
    "non_empty_nodes = set()\n",
    "for node in text_nodes:\n",
    "    for edge in text_edges:\n",
    "        if node in edge:\n",
    "            non_empty_nodes.add(node)\n",
    "non_empty_nodes = list(non_empty_nodes)\n",
    "orphaned_nodes = [node for node in text_nodes if node not in non_empty_nodes]\n",
    "print('Number of nodes with edges:', len(non_empty_nodes))\n",
    "print('Number of nodes without edges:', len(orphaned_nodes))\n",
    "print('Orphaned nodes percentage:', (len(orphaned_nodes)) / nodes_count * 100)\n"
   ]
  },
  {
   "cell_type": "code",
   "execution_count": 1,
   "outputs": [],
   "source": [],
   "metadata": {
    "collapsed": false,
    "ExecuteTime": {
     "end_time": "2023-11-01T22:13:18.940320Z",
     "start_time": "2023-11-01T22:13:18.933405Z"
    }
   },
   "id": "a677477495139b9b"
  }
 ],
 "metadata": {
  "kernelspec": {
   "display_name": "Python 3",
   "language": "python",
   "name": "python3"
  },
  "language_info": {
   "codemirror_mode": {
    "name": "ipython",
    "version": 2
   },
   "file_extension": ".py",
   "mimetype": "text/x-python",
   "name": "python",
   "nbconvert_exporter": "python",
   "pygments_lexer": "ipython2",
   "version": "2.7.6"
  }
 },
 "nbformat": 4,
 "nbformat_minor": 5
}
