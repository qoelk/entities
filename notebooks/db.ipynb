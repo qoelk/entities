{
 "cells": [
  {
   "cell_type": "code",
   "execution_count": 1,
   "id": "initial_id",
   "metadata": {
    "collapsed": true,
    "ExecuteTime": {
     "end_time": "2024-02-26T13:57:15.441658Z",
     "start_time": "2024-02-26T13:57:15.300671Z"
    }
   },
   "outputs": [
    {
     "name": "stdout",
     "output_type": "stream",
     "text": [
      "2024-02-26 20:57:15,429 INFO sqlalchemy.engine.Engine BEGIN (implicit)\n",
      "2024-02-26 20:57:15,429 INFO sqlalchemy.engine.Engine PRAGMA main.table_info(\"documents\")\n",
      "2024-02-26 20:57:15,430 INFO sqlalchemy.engine.Engine [raw sql] ()\n",
      "2024-02-26 20:57:15,430 INFO sqlalchemy.engine.Engine PRAGMA temp.table_info(\"documents\")\n",
      "2024-02-26 20:57:15,431 INFO sqlalchemy.engine.Engine [raw sql] ()\n",
      "2024-02-26 20:57:15,431 INFO sqlalchemy.engine.Engine PRAGMA main.table_info(\"entities\")\n",
      "2024-02-26 20:57:15,431 INFO sqlalchemy.engine.Engine [raw sql] ()\n",
      "2024-02-26 20:57:15,432 INFO sqlalchemy.engine.Engine PRAGMA temp.table_info(\"entities\")\n",
      "2024-02-26 20:57:15,432 INFO sqlalchemy.engine.Engine [raw sql] ()\n",
      "2024-02-26 20:57:15,432 INFO sqlalchemy.engine.Engine PRAGMA main.table_info(\"connections\")\n",
      "2024-02-26 20:57:15,432 INFO sqlalchemy.engine.Engine [raw sql] ()\n",
      "2024-02-26 20:57:15,433 INFO sqlalchemy.engine.Engine PRAGMA temp.table_info(\"connections\")\n",
      "2024-02-26 20:57:15,433 INFO sqlalchemy.engine.Engine [raw sql] ()\n",
      "2024-02-26 20:57:15,434 INFO sqlalchemy.engine.Engine \n",
      "CREATE TABLE documents (\n",
      "\tname VARCHAR(255) NOT NULL, \n",
      "\ttext TEXT NOT NULL, \n",
      "\tdocument_date DATE, \n",
      "\tid CHAR(32) NOT NULL, \n",
      "\tPRIMARY KEY (id)\n",
      ")\n",
      "\n",
      "\n",
      "2024-02-26 20:57:15,434 INFO sqlalchemy.engine.Engine [no key 0.00026s] ()\n",
      "2024-02-26 20:57:15,435 INFO sqlalchemy.engine.Engine \n",
      "CREATE TABLE entities (\n",
      "\tdata VARCHAR(255) NOT NULL, \n",
      "\tentity_type VARCHAR(255) NOT NULL, \n",
      "\tstart INTEGER NOT NULL, \n",
      "\t\"end\" INTEGER NOT NULL, \n",
      "\tdocument_id CHAR(32), \n",
      "\tid CHAR(32) NOT NULL, \n",
      "\tPRIMARY KEY (id), \n",
      "\tFOREIGN KEY(document_id) REFERENCES documents (id)\n",
      ")\n",
      "\n",
      "\n",
      "2024-02-26 20:57:15,435 INFO sqlalchemy.engine.Engine [no key 0.00025s] ()\n",
      "2024-02-26 20:57:15,436 INFO sqlalchemy.engine.Engine \n",
      "CREATE TABLE connections (\n",
      "\thead_id CHAR(32), \n",
      "\ttail_id CHAR(32), \n",
      "\tdocument_id CHAR(32), \n",
      "\tid CHAR(32) NOT NULL, \n",
      "\tPRIMARY KEY (id), \n",
      "\tFOREIGN KEY(head_id) REFERENCES entities (id), \n",
      "\tFOREIGN KEY(tail_id) REFERENCES entities (id), \n",
      "\tFOREIGN KEY(document_id) REFERENCES documents (id)\n",
      ")\n",
      "\n",
      "\n",
      "2024-02-26 20:57:15,436 INFO sqlalchemy.engine.Engine [no key 0.00025s] ()\n",
      "2024-02-26 20:57:15,437 INFO sqlalchemy.engine.Engine COMMIT\n"
     ]
    }
   ],
   "source": [
    "import os\n",
    "\n",
    "from models.base import Base\n",
    "from models.document import Document\n",
    "from models.entity import Entity\n",
    "from models.connections import Connection\n",
    "from sqlalchemy import create_engine\n",
    "\n",
    "engine = create_engine('sqlite:///../data.db', echo=True)\n",
    "Base.metadata.create_all(engine)"
   ]
  },
  {
   "cell_type": "code",
   "outputs": [
    {
     "name": "stdout",
     "output_type": "stream",
     "text": [
      "2024-02-26 20:58:15,085 INFO sqlalchemy.engine.Engine BEGIN (implicit)\n",
      "2024-02-26 20:58:15,087 INFO sqlalchemy.engine.Engine INSERT INTO documents (name, text, document_date, id) VALUES (?, ?, ?, ?), (?, ?, ?, ?), (?, ?, ?, ?), (?, ?, ?, ?), (?, ?, ?, ?), (?, ?, ?, ?), (?, ?, ?, ?), (?, ?, ?, ?), (?, ?, ?, ?), (?, ?, ?, ?), (?, ?, ?, ?), (?, ?, ?, ?), (?, ?, ?, ?), (?, ?,  ... 255 characters truncated ... ?), (?, ?, ?, ?), (?, ?, ?, ?), (?, ?, ?, ?), (?, ?, ?, ?), (?, ?, ?, ?), (?, ?, ?, ?), (?, ?, ?, ?)\n",
      "2024-02-26 20:58:15,087 INFO sqlalchemy.engine.Engine [generated in 0.00064s (insertmanyvalues) 1/1 (unordered)] ('15.txt', 'Номер пациента, пол и возраст\\n 15, Женский, 39\\n\\nДата и время осмотра\\n 21.12.2016 , 12:41\\n\\nЖалобы\\n На покраснение, отёк левой половины лица, уш ... (3853 characters truncated) ... ушной раковины слева, эритематозная, распростаненная, первичная, средней степени тяжести. Лакунарная ангина, двухсторонняя средней степени тяжести.\\n', None, '807ab133-e176-46fe-bd92-7bd9eaac090c', '16.txt', 'Номер пациента, пол и возраст\\n 16, женский, 58\\n\\nДата и время осмотра\\n 15.12.2016 14:53\\n\\nЖалобы\\n Слабость, повышение температуры до 38.3, жар,  ... (3118 characters truncated) ...  всей поверхности эритемы.\\n\\nДиагноз\\n Рожа правого плеча и предплечья, эритематозная, первичная, распространенная, средней степени тяжести. А46\\n\\n', None, '541b3bb0-1256-4e4d-bb0a-3eeb00ef6961', '17.txt', 'Номер пациента, пол и возраст\\n 17, женский, 67\\n\\nДата и время осмотра\\n 12.12.2016 09:00\\n\\nЖалобы\\n На эритему в левой половине лица и ушной раков ... (3958 characters truncated) ...  средней степени тяжести.\\n\\nДиагноз\\n Рожа лица и ушной раковины слева, эритематозная, первичная, распространенная, средней степени тяжести. А46\\n\\n', None, '0f4e021c-042d-4555-aad9-f86d8ceada65', '13.txt', 'Номер пациента, пол и возраст\\n 13, женский, 65\\n\\nДата и время осмотра\\n 28.11.2016 09:57\\n\\nЖалобы\\n Слабость, повышенная температура до 38.9, жар, ... (2370 characters truncated) ... томических участках.\\nDs: Рожа левого плеча и предплечья эритематозная, распространенная, первичная, средней степени тяжести.\\n\\nДиагноз\\n А46 Рожа\\n', None, '5038b0b2-a171-48c6-b14a-78b8c0e82eb2', '12.txt', 'Номер пациента, пол, возраст\\n12, мужской, 31.08.1981 (35)\\n\\nДата: \\n23.11.2016 18:50\\n\\nЖалобы: \\nНа жгучую, распирающую боль в области лица, повыш ... (7620 characters truncated) ... ней степени тяжести\\n\\nПлан обследования: \\nОбследование: ОАК ОАМ.Б/ХСАСТАЛТ, билирубин, амилаза, глюкоза,), кал на я/г, коагулограмма, РМП, ЭКГ.\\n\\n', None, '00ad50b1-7f93-4ba4-90b0-d8310d3967a8', '10.txt', 'Номер пациента, пол и возраст\\n10, мужской, 11.05.1966 (50)\\n\\nдата: \\n24.11.2016 12:53\\n\\nЖалобы\\nСлабость, повышение температуры до 38.9, жар, озно ... (3654 characters truncated) ... Диета\\nТаб. Ципрофлоксацин 500 х2 раза в день\\nТаб. Мезим 1 таб х 3 раза в день\\n\\nР-р Платифиллин 0.2% -2.0 в/м\\nНеосмектит 1 пакх 3 раза в день\\n\\n', None, 'bb3fc172-7e00-40cc-959f-b553aced658a', '62.txt', 'Номер пациента, пол и возраст\\n 62, женский, 47\\n\\nДата и время осмотра\\n 16.10.2016, 19:38\\n\\nЖалобы\\n Слабость, повышение температуры до 38.9, жар, ... (3524 characters truncated) ... ая,локализованная, средней степени тяжести.\\n\\nДиагноз\\n А46 Рожа правой голени, эритематозная, первичная, локализованная, средней степени тяжести.\\n', None, '6708a8c9-6d63-4a5b-a4c4-28c001f7cae9', '63.txt', 'Номер пациента, пол и возраст\\n 63, женский, 72\\n\\nДата и время осмотра\\n 22.10.2016, 16:31\\n\\nЖалобы\\n На боль и жжение в области левой голени,нарас ... (3499 characters truncated) ... я. Накануне заболевания стрессовая ситуация.\\n\\nДиагноз\\n А46 Рожа левой голени, локализованная, эритематозная, повторная, средней степени тяжести.\\n', None, '7c4742ad-852c-4f46-ba16-fcd9acec10ce', '61.txt', 'Номер пациента, пол и возраст\\n 61 рожа, Женский, 79 лет\\n\\nДата и время осмотра\\n 19.10.2016 09:00\\n\\nЖалобы\\n На повышение температуры 37.6-37.8, о ... (1943 characters truncated) ... ая, средней степени тяжести, А46.\\n\\nДиагноз\\n А46 Рожа правой голени, эритематозная форма, локализованная, рецидивирующая, средней степени тяжести\\n', None, '160fa0e0-1e17-469c-a725-dfa626b255a8', '74.txt', 'Номер пациента, пол и возраст\\n 74, мужской, 57\\n\\nДата и время осмотра\\n 20.06.2017 09:07\\n\\nЖалобы\\n Слабость, повышение температуры до 38,9, жар,  ... (3129 characters truncated) ... ецидивирующая, средней степени тяжести.\\n\\nДиагноз\\n Рожа левой голени, эритематозная, рецидивирующая, локализованная, средней степени тяжести. А46\\n', None, 'dc5db96a-554a-46ef-94b7-0137fadfdfab', '60.txt', 'Номер пациента, пол и возраст\\n 60 рожа, Женский, 69 лет\\n\\nДата и время осмотра\\n 23.09.2016 09:43\\n\\nЖалобы\\n Жалобы на покраснение и отек правой р ... (2406 characters truncated) ...  предварительно поставить диагноз: рожа правой руки, рецидивирующая, эритематозная, распространенная, средней степени тяжести\\n\\nДиагноз\\n А46 рожа\\n', None, '53614d45-4fa8-4485-980c-28c76020f539', '48.txt', '\\ufeffНомер пациента, пол и возраст\\n 48, женский, 17.04.1947 (69) \\n\\nДата и время осмотра\\n 06.10.2016 08:16\\n\\nЖалобы\\n Повышение температуры с оз ... (3359 characters truncated) ... явления лимфангоита.\\nВыставлен диагноз: рожа левой голени, эритематозно-геморрагическая, первичная, средней степени тяжести.\\n\\nДиагноз\\n А46 Рожа\\n', None, '7e8da350-4093-4320-b3e6-c6979af66bae', '64.txt', 'Номер пациента, пол и возраст\\n 64,  женский, 69\\n\\nДата и время осмотра\\n 21.10.2016, 18:27\\n\\nЖалобы\\n На повышение температуры до 39,2С, распирающ ... (3057 characters truncated) ... твовало переохлаждение.\\n\\nДиагноз\\n А46 Рожа правого плеча и предплечья, распространённая, эритематозная, рецидивирующая, средней степени тяжести.\\n' ... 56 parameters truncated ... None, 'bbbdba3a-1d6e-42b1-a0e6-b8d09381321a', '2.txt', '\\ufeffПервичный осмотр в стационаре лечащим врачом\\nДата: 19.04.2016 10:52\\nЖалобы: На умеренную боль ,жжение, зуд в области левой голени, общее недо ... (3920 characters truncated) ... ние конечности\\nsol. Cefazolini 1.0x4 раза в день, в/м,10 дней.\\nsol. diclofenaci 3 ml xlpaз, на ночь,в/м,№5.\\nloratadini 10 mgx1 раз в день, 5 дней.', None, 'f52fd4ff-e0a6-46b1-a023-ee7054b9e5a3', '1.txt', '\\ufeffОсмотр пациента лечащим врачом\\nНомер пациента, пол и возраст\\n 115-411 Рож Эрит Лок Перв 1ан-ж66, Женский, 66 лет\\nДата и время осмотра\\n 05.0 ... (4867 characters truncated) ... \\nПлан лечения\\n Возвышенное положение правой нижней конечности,\\nцефтриаксон 1,0 х 2 р/д в/м,\\nлоратадин 10мг х 1 р/д,\\nнимесулид 100мг х2 р/д\\n\\n\\n', None, 'c5077fe1-f494-4bdd-a768-159685b5972e', '20.txt', 'Номер пациента, пол и возраст\\n 20, Женский, 59\\n\\nДата и время осмотра\\n 04.04.2017 11:40\\n\\nЖалобы\\n Слабость, повышение температуры до 37,5, жар,  ... (3106 characters truncated) ... редней степени тяжести \\n\\nДиагноз\\n Рожа правого плеча и предплечья, эритематозная, рецидивирующая, распространенная, средней степени тяжести, А46\\n', None, '88567e54-c561-416f-b2ce-f2c60eed1fe0', '21.txt', 'Номер пациента, пол, возраст\\n21, женский, 9.12.1938 (78)\\n\\nДата: \\n07.04.2017 11:48\\n\\nЖалобы: \\nотёчность, гиперемия кожи левой ушной раковины и л ... (3475 characters truncated) ... степени тяжести\\n\\nДиагноз клинический\\nрожа лица и ушной раковины слева, эритематозная, распространенная, первичная, средней степени тяжести А46\\n\\n', None, 'a7dc84a0-afe7-48dc-84c3-03cf9da9835f', '23.txt', 'Номер пациента, вол, возраст\\n23, женский, 05.01.1952 (65)\\n\\nДата\\n23.03.2017 19:20\\n\\n \\n\\nЖалобы: \\nНа красноту, отек, жжение правой половины лица ... (3220 characters truncated) ... гноз\\nА46 Рожа лица, эритематозная форма, первичная, локализованная, средней степени тяжести. форма, первичная, локализованная, средней степени. \\n\\n', None, '68b9e25a-21a9-4d39-9948-e1262fb23c35', '26.txt', 'Номер пациента, пол, возраст\\n26, женский, 11.04.1950 (66)\\n\\nДата: \\n26.03.2017 13:01\\nЖалобы: \\nЖалобы на покраснение и отек правой и левой щеки, н ... (3839 characters truncated) ... \\n\\nПлан обследования\\nОбщий анализ крови, общий анализ мочи\\nпоставить диагноз: рожа лица повторная, \\nкал на я/г, РМП, биохимический анализ крови\\n', None, '8aab2307-b1a1-49e8-9f92-f06b89bc065a', '27.txt', 'Номер пациента, пол, возраст\\n27, мужской, 25.01.1950 (67)\\n\\nДата\\n12.04.2017 08:58\\n\\nЖалобы:\\nНа эритему, распирающую боль и чувство жара в област ... (4081 characters truncated) ... раненная, повторная, средней степени тяжести, А46\\n\\nОбоснование диагноза:\\nДиагноз: Рожа лица, ушной раковины, шеи, волосистой части головы справа\\n', None, '16fb6daf-0c02-420f-b8bd-3f05d2f43855', '31.txt', 'Номер пациента, пол, возраст\\n31, женский, 21.05.1950 (65)\\n\\nДата: 30.03.2016 12:00 \\nЖалобы: Слабость, повышение температуры до 39.0, слабость, бол ... (2349 characters truncated) ... кализованная, средней степени тяжести\\n\\nДиагноз клинический: \\nРожа носа, эритематозная, первичная, локализованная, средней степени тяжести. А46\\n\\n', None, '5f8a182f-45ff-4b19-8cf0-c7cabc6968f7', '25.txt', 'Номер пациента, пол, возраст\\n25, мужской, 29.03.1965 (51)\\n\\nДата: 13.04.2017 17:09\\n\\nЖалобы: \\nНа озноб, повышение температуры до 39,9, головную б ... (3049 characters truncated) ... лица, эритематозная форма, первичная, средней степени тяжести.\\n\\nДиагноз: \\nА4б Рожа лица, эритематозная форма, первичная, средней степени тяжести\\n', None, 'd77cc0d0-b7d5-4edf-9deb-714cef0c2999', '19.txt', 'Номер пациента, пол и возраст\\n 19, мужской, 33\\n\\nДата и время осмотра\\n 07.12.2016 18:13\\n\\nЖалобы\\n На распирающую боль и чувство жара в области п ... (3562 characters truncated) ...  развитию рожи голени.\\n\\nДиагноз\\n А46 Рожа правой голени, коленного сустава, распространённая, эритематозная, первичная, средней степени тяжести.\\n', None, 'c2c2fe38-cc6e-471f-9efc-2bf0d9b398d9', '18.txt', 'Номер пациента, пол и возраст\\n 18, мужской, 49\\n\\nДата и время осмотра\\n 13.12.2016 19:13\\n\\nЖалобы\\n Слабость, повышение температуры до 38,9, жар,  ... (3050 characters truncated) ...  локализованная, средней степени тяжести.\\n\\nДиагноз\\n Рожа правой голени, эритематозная, повторная, локализованная, средней степени тяжести, А46\\n\\n', None, '1c46eae9-9865-412f-a1f2-2af86ab56e98', '24.txt', 'Номер пациента, пол, возраст\\n24, мужской, 23.09.1974 (42)\\nДата:\\n19.04.2017 10:18\\n\\nЖалобы: \\nповышение температуры до 39,8, головную боль, гиперм ... (3453 characters truncated) ...  и подчелюстные справа)\\n\\nДиагноз при поступлении: \\nА46 рожа лица и волосистой части головы, распространённая, средней степени тяжести, первичная\\n', None, '483e28f2-b723-4d21-adfc-da375fc126fa')\n",
      "2024-02-26 20:58:15,145 INFO sqlalchemy.engine.Engine INSERT INTO entities (data, entity_type, start, \"end\", document_id, id) VALUES (?, ?, ?, ?, ?, ?), (?, ?, ?, ?, ?, ?), (?, ?, ?, ?, ?, ?), (?, ?, ?, ?, ?, ?), (?, ?, ?, ?, ?, ?), (?, ?, ?, ?, ?, ?), (?, ?, ?, ?, ?, ?), (?, ?, ?, ?, ?, ?), (?, ?, ?, ? ... 19727 characters truncated ... , (?, ?, ?, ?, ?, ?), (?, ?, ?, ?, ?, ?), (?, ?, ?, ?, ?, ?), (?, ?, ?, ?, ?, ?), (?, ?, ?, ?, ?, ?)\n",
      "2024-02-26 20:58:15,145 INFO sqlalchemy.engine.Engine [generated in 0.01022s (insertmanyvalues) 1/3 (unordered)] ('21 . 12 . 2016', 'time', 70, 80, '807ab133-e176-46fe-bd92-7bd9eaac090c', 'e000a7ca-7d90-4157-83ff-6cc4c4655718', 'повышение температуры до 38 , 5', 'general', 156, 185, '807ab133-e176-46fe-bd92-7bd9eaac090c', '0790df64-895c-4d89-9b32-36e666974ff8', ', боль', 'general', 217, 223, '807ab133-e176-46fe-bd92-7bd9eaac090c', 'b828e021-4cd4-42d7-9fca-935d41e4428c', ', боли', 'general', 375, 381, '807ab133-e176-46fe-bd92-7bd9eaac090c', '1ec2a2ee-f879-4447-9ae8-822a6c45b763', 'повышением температуры', 'general', 3414, 3436, '807ab133-e176-46fe-bd92-7bd9eaac090c', '30c84177-230b-4be3-9019-85224a139a9f', 'повышение температуры', 'general', 3793, 3814, '807ab133-e176-46fe-bd92-7bd9eaac090c', 'b05e2011-d997-4a2b-b0df-b69dad3b651c', 'ушной раковины', 'location', 60, 74, '807ab133-e176-46fe-bd92-7bd9eaac090c', 'feaf0a46-561c-4613-9b91-8d72c060bd41', 'покраснение', 'localised', 101, 112, '807ab133-e176-46fe-bd92-7bd9eaac090c', '78dc7113-74b6-47e5-afcc-ac19231522c3', 'отёк', 'localised' ... 5900 parameters truncated ... 'b9475b1a-c596-4202-b9e8-f4bbb480d219', '5cda2bea-baff-4829-844c-3aaaee3c4817', 'гиперемия', 'localised', 272, 281, 'b9475b1a-c596-4202-b9e8-f4bbb480d219', 'c125d6a7-a8f2-4ca1-b8e6-45033aef7015', 'эритема', 'localised', 1758, 1765, 'b9475b1a-c596-4202-b9e8-f4bbb480d219', '101da21c-0600-4472-94e1-58afbdf36d31', 'отёк', 'localised', 1795, 1799, 'b9475b1a-c596-4202-b9e8-f4bbb480d219', '5bcd8380-e72c-49e9-abdd-d15f8b971785', 'эритема', 'localised', 2651, 2658, 'b9475b1a-c596-4202-b9e8-f4bbb480d219', '384d1230-ce57-48ae-b192-60e596ffe5ad', 'отека', 'localised', 2667, 2672, 'b9475b1a-c596-4202-b9e8-f4bbb480d219', '6c3946a0-ccd5-45d2-a83f-8667d16ca5c5', 'эритемы', 'localised', 3474, 3481, 'b9475b1a-c596-4202-b9e8-f4bbb480d219', '1c751961-a916-4ded-817c-ec54a3d35275', 'отека', 'localised', 3510, 3515, 'b9475b1a-c596-4202-b9e8-f4bbb480d219', '188bd34d-bd3a-41e4-9761-5bc67afd4ed7', 'эритемы', 'localised', 3597, 3604, 'b9475b1a-c596-4202-b9e8-f4bbb480d219', 'acfaed60-9ecc-4f76-80b0-c8dce42acf05')\n",
      "2024-02-26 20:58:15,148 INFO sqlalchemy.engine.Engine INSERT INTO entities (data, entity_type, start, \"end\", document_id, id) VALUES (?, ?, ?, ?, ?, ?), (?, ?, ?, ?, ?, ?), (?, ?, ?, ?, ?, ?), (?, ?, ?, ?, ?, ?), (?, ?, ?, ?, ?, ?), (?, ?, ?, ?, ?, ?), (?, ?, ?, ?, ?, ?), (?, ?, ?, ?, ?, ?), (?, ?, ?, ? ... 19727 characters truncated ... , (?, ?, ?, ?, ?, ?), (?, ?, ?, ?, ?, ?), (?, ?, ?, ?, ?, ?), (?, ?, ?, ?, ?, ?), (?, ?, ?, ?, ?, ?)\n",
      "2024-02-26 20:58:15,148 INFO sqlalchemy.engine.Engine [insertmanyvalues 2/3 (unordered)] ('28 . 03 . 16', 'time', 195, 203, 'b9475b1a-c596-4202-b9e8-f4bbb480d219', '808cc4e0-8a39-4573-ab2f-28f3cc0b2084', '\\n Слабость', 'general', 72, 82, 'b9475b1a-c596-4202-b9e8-f4bbb480d219', 'f3f700e7-368f-4219-878c-6c2b94f44ed0', 'повышение температуры до 38 . 9', 'general', 84, 113, 'b9475b1a-c596-4202-b9e8-f4bbb480d219', 'ae0415d4-a715-4545-afc9-a0535473f403', 'жар', 'general', 115, 118, 'b9475b1a-c596-4202-b9e8-f4bbb480d219', '7047d753-5643-405a-b3cc-fcd0186ea046', 'озноб', 'general', 120, 125, 'b9475b1a-c596-4202-b9e8-f4bbb480d219', 'f101d44b-86c2-4222-bf97-7fdd1656dc53', ', боль', 'general', 125, 131, 'b9475b1a-c596-4202-b9e8-f4bbb480d219', 'bf9b463b-e6f8-4a17-9e59-321ef93f8e21', 'появилась слабость', 'general', 212, 230, 'b9475b1a-c596-4202-b9e8-f4bbb480d219', '90f42fd7-140b-4ed6-a50b-9fc4383134e8', 'жар', 'general', 232, 235, 'b9475b1a-c596-4202-b9e8-f4bbb480d219', '97228407-d579-481a-a03e-d5c8691db987', 'озноб', 'general' ... 5900 parameters truncated ... '16fb6daf-0c02-420f-b8bd-3f05d2f43855', 'a4ae03ba-a375-4fee-a9de-5b9734f85398', 'эритемы', 'localised', 2357, 2364, '16fb6daf-0c02-420f-b8bd-3f05d2f43855', 'ccf49416-b809-4b1f-a92c-6b80bdb29ee4', 'эритема', 'localised', 3543, 3550, '16fb6daf-0c02-420f-b8bd-3f05d2f43855', '9a5e39f8-7721-45cf-99f7-10b76ec1f4e4', 'отек', 'localised', 3609, 3613, '16fb6daf-0c02-420f-b8bd-3f05d2f43855', '1a8ef217-918d-421e-8a3f-4bc5f3b44ee7', '09 . 04 . 2017', 'time', 309, 319, '16fb6daf-0c02-420f-b8bd-3f05d2f43855', 'c6b310a1-4674-4373-ac16-59fb7af42c6c', 'распирающую боль', 'general', 102, 118, '16fb6daf-0c02-420f-b8bd-3f05d2f43855', '3a598209-4d91-4497-9bc3-55378dacad9f', 'жара', 'general', 129, 133, '16fb6daf-0c02-420f-b8bd-3f05d2f43855', '382644a9-1bc5-46cf-941a-0880f4178f13', 'повышение температуры до 38 , 7', 'general', 204, 233, '16fb6daf-0c02-420f-b8bd-3f05d2f43855', '93cefc75-0ca0-4074-bcdd-f43da86a4558', 'головную боль', 'general', 236, 249, '16fb6daf-0c02-420f-b8bd-3f05d2f43855', '5d2f749a-8dbc-4858-97d2-3fa03a32e520')\n",
      "2024-02-26 20:58:15,149 INFO sqlalchemy.engine.Engine INSERT INTO entities (data, entity_type, start, \"end\", document_id, id) VALUES (?, ?, ?, ?, ?, ?), (?, ?, ?, ?, ?, ?), (?, ?, ?, ?, ?, ?), (?, ?, ?, ?, ?, ?), (?, ?, ?, ?, ?, ?), (?, ?, ?, ?, ?, ?), (?, ?, ?, ?, ?, ?), (?, ?, ?, ?, ?, ?), (?, ?, ?, ? ... 4767 characters truncated ... , (?, ?, ?, ?, ?, ?), (?, ?, ?, ?, ?, ?), (?, ?, ?, ?, ?, ?), (?, ?, ?, ?, ?, ?), (?, ?, ?, ?, ?, ?)\n",
      "2024-02-26 20:58:15,149 INFO sqlalchemy.engine.Engine [insertmanyvalues 3/3 (unordered)] ('общую слабость', 'general', 263, 277, '16fb6daf-0c02-420f-b8bd-3f05d2f43855', '843dea9b-20ee-46b8-8839-ac8dd58e58df', 'повышение температуры до 38 , 7', 'general', 322, 351, '16fb6daf-0c02-420f-b8bd-3f05d2f43855', '8cd54851-307a-45a7-8bf4-bdd57330b9e9', 'головная боль', 'general', 354, 367, '16fb6daf-0c02-420f-b8bd-3f05d2f43855', '04dfe0cd-0a6e-404b-8c7f-e8fd508b3d2b', ', слабость', 'general', 395, 405, '16fb6daf-0c02-420f-b8bd-3f05d2f43855', 'e5ebb84e-c281-4a32-aef9-eaafc8e90728', 'распирающую боль', 'general', 499, 515, '16fb6daf-0c02-420f-b8bd-3f05d2f43855', '0f6a7a60-b495-402e-93dd-85144dc201ef', 'жара', 'general', 526, 530, '16fb6daf-0c02-420f-b8bd-3f05d2f43855', 'a9c4e274-7366-4243-8fd2-2d12ee438709', 'головные боли', 'general', 1508, 1521, '16fb6daf-0c02-420f-b8bd-3f05d2f43855', '01e157ed-9580-4d50-9972-6d3a792b910d', 'головная', 'location', 35, 43, '16fb6daf-0c02-420f-b8bd-3f05d2f43855', '1a6888a7-7f2b-460c-b526-e3a52ad8f768', 'эритему', 'localised' ... 1412 parameters truncated ... '483e28f2-b723-4d21-adfc-da375fc126fa', '984fb346-e806-4a7e-9b9f-2ec068fc754e', '16 . 04 . 17', 'time', 944, 952, '483e28f2-b723-4d21-adfc-da375fc126fa', '76dbf3e5-968f-4d79-9870-2068bf66d6c1', '17 . 04 . 17', 'time', 957, 965, '483e28f2-b723-4d21-adfc-da375fc126fa', '0e01fa0a-f763-4257-a7c2-134380a1775c', 'Живот', 'location', 1339, 1344, '483e28f2-b723-4d21-adfc-da375fc126fa', '0b955abc-bfc7-43fc-ae53-c88192ebb43e', 'живот', 'location', 1578, 1583, '483e28f2-b723-4d21-adfc-da375fc126fa', '26622d11-6eb2-4eb6-a374-c649660691a2', 'головы', 'location', 2196, 2202, '483e28f2-b723-4d21-adfc-da375fc126fa', 'c01af6ff-e3ff-4fa4-8a1d-1c4eb0db116d', 'головы', 'location', 2679, 2685, '483e28f2-b723-4d21-adfc-da375fc126fa', '2986d733-f30f-4c2e-b1e8-e63dbdecbe1e', 'гиперемирована', 'localised', 490, 504, '483e28f2-b723-4d21-adfc-da375fc126fa', '24604ed7-80b8-4651-9301-91dde7a6d9e9', 'гиперемированы', 'localised', 626, 640, '483e28f2-b723-4d21-adfc-da375fc126fa', '59d6945b-6f61-49aa-9a99-f32c44575c24')\n",
      "2024-02-26 20:58:15,210 INFO sqlalchemy.engine.Engine INSERT INTO connections (head_id, tail_id, document_id, id) VALUES (?, ?, ?, ?), (?, ?, ?, ?), (?, ?, ?, ?), (?, ?, ?, ?), (?, ?, ?, ?), (?, ?, ?, ?), (?, ?, ?, ?), (?, ?, ?, ?), (?, ?, ?, ?), (?, ?, ?, ?), (?, ?, ?, ?), (?, ?, ?, ?), (?, ?, ?, ?), ( ... 13715 characters truncated ... ?), (?, ?, ?, ?), (?, ?, ?, ?), (?, ?, ?, ?), (?, ?, ?, ?), (?, ?, ?, ?), (?, ?, ?, ?), (?, ?, ?, ?)\n",
      "2024-02-26 20:58:15,211 INFO sqlalchemy.engine.Engine [generated in 0.00914s (insertmanyvalues) 1/3 (unordered)] ('e000a7ca-7d90-4157-83ff-6cc4c4655718', '0790df64-895c-4d89-9b32-36e666974ff8', '807ab133-e176-46fe-bd92-7bd9eaac090c', '7b101376-51c3-44b5-9e3a-f94e4ed9187e', 'e000a7ca-7d90-4157-83ff-6cc4c4655718', 'b828e021-4cd4-42d7-9fca-935d41e4428c', '807ab133-e176-46fe-bd92-7bd9eaac090c', 'f2c7b1ab-a5d7-417f-b3f4-f3e36e02aa6d', 'e000a7ca-7d90-4157-83ff-6cc4c4655718', '1ec2a2ee-f879-4447-9ae8-822a6c45b763', '807ab133-e176-46fe-bd92-7bd9eaac090c', 'c23cbee5-996e-4df6-9987-3054e5234c2b', 'e000a7ca-7d90-4157-83ff-6cc4c4655718', '30c84177-230b-4be3-9019-85224a139a9f', '807ab133-e176-46fe-bd92-7bd9eaac090c', 'acf650c9-3eba-432a-babb-8826949defbe', 'e000a7ca-7d90-4157-83ff-6cc4c4655718', 'b05e2011-d997-4a2b-b0df-b69dad3b651c', '807ab133-e176-46fe-bd92-7bd9eaac090c', '2baf6f00-fcf5-46b2-a813-4237733f73b8', 'e000a7ca-7d90-4157-83ff-6cc4c4655718', 'feaf0a46-561c-4613-9b91-8d72c060bd41', '807ab133-e176-46fe-bd92-7bd9eaac090c', '96a4686f-b2ba-4f21-ad44-29212418fab5', 'feaf0a46-561c-4613-9b91-8d72c060bd41', '78dc7113-74b6-47e5-afcc-ac19231522c3', '807ab133-e176-46fe-bd92-7bd9eaac090c', '397e23b0-638b-4c3c-be2f-59c41fb54685', 'feaf0a46-561c-4613-9b91-8d72c060bd41', 'e19047c5-e6c2-4697-bcdc-724fddaf2377', '807ab133-e176-46fe-bd92-7bd9eaac090c', 'cc6650b3-eb92-48a1-9813-b01555b25bd8', 'feaf0a46-561c-4613-9b91-8d72c060bd41', '1e41ea04-80fa-4c3f-919e-15429cb12ab8', '807ab133-e176-46fe-bd92-7bd9eaac090c', 'e978e67b-11f3-47c8-8663-04e6f428347d', 'feaf0a46-561c-4613-9b91-8d72c060bd41', '8087f20d-d1ea-4024-a6a1-ade05f9eac6f', '807ab133-e176-46fe-bd92-7bd9eaac090c', '1bf50b33-c9f6-419e-a15d-fd0d558412e7', 'feaf0a46-561c-4613-9b91-8d72c060bd41', '3de39d7c-86b9-4ab0-bee2-c261f2cb9f0e', '807ab133-e176-46fe-bd92-7bd9eaac090c', 'c992bc5b-8604-48e8-9d07-32c58c67c9a3', 'feaf0a46-561c-4613-9b91-8d72c060bd41', '747e0675-fff9-442b-a01d-f5c639a0e06e', '807ab133-e176-46fe-bd92-7bd9eaac090c', 'fbdfca1b-04de-4922-aa4b-37b4c382c043', 'feaf0a46-561c-4613-9b91-8d72c060bd41', '300d1154-2c9d-40fd-842d-3fec2dce26f1' ... 3900 parameters truncated ... 'b9475b1a-c596-4202-b9e8-f4bbb480d219', '3b632993-f7fa-4e7c-a0ef-1ac8ffdb136f', 'af8f3f07-11be-498f-aa99-b5dd8b7b0c62', '925344c0-bd85-4df0-8aa5-64be3b840e81', 'b9475b1a-c596-4202-b9e8-f4bbb480d219', '50206148-5a45-4b1f-b3c5-70482d5ec5fc', 'af8f3f07-11be-498f-aa99-b5dd8b7b0c62', 'a47cc03b-5707-4afc-97f1-f5c2284c04f5', 'b9475b1a-c596-4202-b9e8-f4bbb480d219', '3b599c62-9288-4d15-bf33-4b952a696902', 'af8f3f07-11be-498f-aa99-b5dd8b7b0c62', 'd635b693-fda7-429f-aba1-17ed37c8f1e9', 'b9475b1a-c596-4202-b9e8-f4bbb480d219', '64c1bf51-5411-4f2b-a56e-49810bcb4b48', 'd635b693-fda7-429f-aba1-17ed37c8f1e9', '9bb41d7a-4706-4c12-8ce3-e4e9bd3bdfd5', 'b9475b1a-c596-4202-b9e8-f4bbb480d219', '88acab6c-a01c-4e45-9d53-cf977c26b739', 'd635b693-fda7-429f-aba1-17ed37c8f1e9', 'f3bf5813-3908-4d97-a464-7b18fe336a59', 'b9475b1a-c596-4202-b9e8-f4bbb480d219', 'b90c9622-145e-48b9-bada-707b7294a180', 'd635b693-fda7-429f-aba1-17ed37c8f1e9', '1bc074ad-00cf-46e8-bfb2-b69f863ab2b4', 'b9475b1a-c596-4202-b9e8-f4bbb480d219', '720d8337-4367-451e-a3c9-5de41aeae615', '282d7508-018b-49ab-b46a-571f3d2e21f3', 'b15b8a58-2149-4455-8f9c-36066b3193d8', 'a1ad9b6b-0fb7-49af-8092-0e08be40c53c', 'e50645eb-4b6e-4451-8d8e-09f9f9dcb4a5', '282d7508-018b-49ab-b46a-571f3d2e21f3', '0f021b58-5428-4062-a951-fa38f012d6b5', 'a1ad9b6b-0fb7-49af-8092-0e08be40c53c', 'f739de02-447c-4dbd-9a96-b35b402a526b', '282d7508-018b-49ab-b46a-571f3d2e21f3', '309b53b8-3f1a-4f82-83e5-4c7d4e000a03', 'a1ad9b6b-0fb7-49af-8092-0e08be40c53c', '41f3cbd7-9ee7-4c38-83c5-76256470cf61', '282d7508-018b-49ab-b46a-571f3d2e21f3', 'be0c1ba0-5d84-4951-87e4-ad033744d284', 'a1ad9b6b-0fb7-49af-8092-0e08be40c53c', '0732b6c4-1e74-4050-9479-16e911f8d082', '282d7508-018b-49ab-b46a-571f3d2e21f3', 'd4150d28-2c4e-4130-9e15-bf09e1f82382', 'a1ad9b6b-0fb7-49af-8092-0e08be40c53c', '46eb91d0-2857-4cbe-8f8c-212ef47be67c', '282d7508-018b-49ab-b46a-571f3d2e21f3', '2df6e52a-348a-4b5e-baec-033d51e84e85', 'a1ad9b6b-0fb7-49af-8092-0e08be40c53c', 'd55cdaaf-b2d9-4bc8-ba25-78fe2c1f3a78')\n",
      "2024-02-26 20:58:15,213 INFO sqlalchemy.engine.Engine INSERT INTO connections (head_id, tail_id, document_id, id) VALUES (?, ?, ?, ?), (?, ?, ?, ?), (?, ?, ?, ?), (?, ?, ?, ?), (?, ?, ?, ?), (?, ?, ?, ?), (?, ?, ?, ?), (?, ?, ?, ?), (?, ?, ?, ?), (?, ?, ?, ?), (?, ?, ?, ?), (?, ?, ?, ?), (?, ?, ?, ?), ( ... 13715 characters truncated ... ?), (?, ?, ?, ?), (?, ?, ?, ?), (?, ?, ?, ?), (?, ?, ?, ?), (?, ?, ?, ?), (?, ?, ?, ?), (?, ?, ?, ?)\n",
      "2024-02-26 20:58:15,213 INFO sqlalchemy.engine.Engine [insertmanyvalues 2/3 (unordered)] ('282d7508-018b-49ab-b46a-571f3d2e21f3', 'e2a4cfdc-9f02-42cb-9a96-d19bb34f0e7f', 'a1ad9b6b-0fb7-49af-8092-0e08be40c53c', '54d3d779-fd64-4743-aa7d-73c4a96d578e', '282d7508-018b-49ab-b46a-571f3d2e21f3', '2285bd4c-cbcb-4c4e-bb19-97f7f5bad376', 'a1ad9b6b-0fb7-49af-8092-0e08be40c53c', '479e5ded-f955-4e39-8e40-132cbdde0108', '282d7508-018b-49ab-b46a-571f3d2e21f3', '989f99af-9437-4240-8413-9c5f155877f0', 'a1ad9b6b-0fb7-49af-8092-0e08be40c53c', '561e6ebf-51ef-4963-99d2-39b83fba680e', '282d7508-018b-49ab-b46a-571f3d2e21f3', '7bf0300f-2f57-4181-8591-49c6d1861f6e', 'a1ad9b6b-0fb7-49af-8092-0e08be40c53c', '848d228f-5dfe-4ff2-bf4c-0905157fa1bf', '282d7508-018b-49ab-b46a-571f3d2e21f3', '5f0b2830-16a8-4d6a-bd5f-18e9c8673f39', 'a1ad9b6b-0fb7-49af-8092-0e08be40c53c', 'e4168604-58f1-4136-8b5c-d0896a768954', '5f0b2830-16a8-4d6a-bd5f-18e9c8673f39', '2c702f80-1c64-42d8-9798-a89687161799', 'a1ad9b6b-0fb7-49af-8092-0e08be40c53c', '8248ec07-7192-4da6-a198-37c98cd59fe3', '5f0b2830-16a8-4d6a-bd5f-18e9c8673f39', '45004a70-bbd9-4200-97ec-855fc1034cb9', 'a1ad9b6b-0fb7-49af-8092-0e08be40c53c', 'b4249812-fa10-489f-b13a-5e3bb088c2f5', '5f0b2830-16a8-4d6a-bd5f-18e9c8673f39', 'f6868010-5644-464e-80f9-c92d51cf3538', 'a1ad9b6b-0fb7-49af-8092-0e08be40c53c', 'b4eafd06-fa89-4f68-ad2d-2029c5b8d126', '5f0b2830-16a8-4d6a-bd5f-18e9c8673f39', 'c04ceb7c-9c40-46d4-a14d-02ed7b61e0c2', 'a1ad9b6b-0fb7-49af-8092-0e08be40c53c', '1b2305a3-5838-42f3-85ad-98ad20f0973a', '3ea2a6ed-243b-456e-aae6-81110965e3ff', '1d974e45-2810-41a1-aa45-4d74fcb927ae', 'a1ad9b6b-0fb7-49af-8092-0e08be40c53c', 'e8ee98ab-9692-4303-9b91-a90c5dacdbf0', '3ea2a6ed-243b-456e-aae6-81110965e3ff', '486f7818-41b9-47fd-9b47-a3e2fa569f41', 'a1ad9b6b-0fb7-49af-8092-0e08be40c53c', '3416349c-e031-42e0-9607-20b755079a02', '3ea2a6ed-243b-456e-aae6-81110965e3ff', '205036da-3efb-4bd9-9ea4-9607c9605f9d', 'a1ad9b6b-0fb7-49af-8092-0e08be40c53c', '74002bde-48d4-4f8f-917e-0cb48b0c9312', '3ea2a6ed-243b-456e-aae6-81110965e3ff', '97bf972f-c89b-44c3-a05d-e69b4ea32398' ... 3900 parameters truncated ... 'c2c2fe38-cc6e-471f-9efc-2bf0d9b398d9', '2f81080b-ff79-432a-986f-0f1ea7694151', '56d5e955-f61e-48a2-9af1-dec6bac24bc3', '1e7abb51-6850-438e-a177-6bb87ae12c1c', 'c2c2fe38-cc6e-471f-9efc-2bf0d9b398d9', '6217294b-c5a7-4824-9d4d-6b0c5be7e2a7', '56d5e955-f61e-48a2-9af1-dec6bac24bc3', '0a0a244c-929a-46c0-9b37-3d854eb113f0', 'c2c2fe38-cc6e-471f-9efc-2bf0d9b398d9', '5d00b16d-2c79-483e-9f05-623d7dea52d8', '56d5e955-f61e-48a2-9af1-dec6bac24bc3', '6ed676d5-e5e0-4de9-8e9f-c5dada6a33d7', 'c2c2fe38-cc6e-471f-9efc-2bf0d9b398d9', '32b0b534-8565-41e8-aee4-d6281e63277a', '56d5e955-f61e-48a2-9af1-dec6bac24bc3', 'fe6f1c81-6ee0-4e23-a181-ce4b7aad7466', 'c2c2fe38-cc6e-471f-9efc-2bf0d9b398d9', 'b2e80782-353f-41de-96dd-24828a1d911d', '56d5e955-f61e-48a2-9af1-dec6bac24bc3', 'c6639565-56d3-4989-b4bd-bbd3f9f9dacf', 'c2c2fe38-cc6e-471f-9efc-2bf0d9b398d9', '7492d72f-984d-48b6-9d8b-98765ca61b69', '56d5e955-f61e-48a2-9af1-dec6bac24bc3', 'bb8b7e8a-9b14-487a-a8b9-e6cb218a9d66', 'c2c2fe38-cc6e-471f-9efc-2bf0d9b398d9', '9ea971f0-3519-4165-b29f-e1d3c3cea5a5', 'bb8b7e8a-9b14-487a-a8b9-e6cb218a9d66', '9836739f-3b03-4c6f-9aa4-d5f8cdfe78a5', 'c2c2fe38-cc6e-471f-9efc-2bf0d9b398d9', 'e4d184e3-992d-4043-9103-cf82ecb0a864', 'bb8b7e8a-9b14-487a-a8b9-e6cb218a9d66', '55532cc5-0daf-414f-aa59-fbe09f1ffdca', 'c2c2fe38-cc6e-471f-9efc-2bf0d9b398d9', 'e7e196d5-9ca3-4cdc-a0bc-612978e73a12', 'bb8b7e8a-9b14-487a-a8b9-e6cb218a9d66', 'aefdb840-af66-49e9-9d2e-dc5522ca04f5', 'c2c2fe38-cc6e-471f-9efc-2bf0d9b398d9', 'bb1c9509-e5ef-46dd-a538-170b7f7d3938', 'bb8b7e8a-9b14-487a-a8b9-e6cb218a9d66', '2f741a72-f85f-42b3-b836-0a17de173c6b', 'c2c2fe38-cc6e-471f-9efc-2bf0d9b398d9', '2fb1650f-8c03-4c3b-91c3-1a5cf59d23d2', 'bb8b7e8a-9b14-487a-a8b9-e6cb218a9d66', '8eafd861-9504-497e-b3de-c6f6fad90328', 'c2c2fe38-cc6e-471f-9efc-2bf0d9b398d9', '0023cea6-f576-4a0a-808a-90b60e12d92c', 'bb8b7e8a-9b14-487a-a8b9-e6cb218a9d66', 'a6f390e1-7090-4de4-8e56-72f5d212bbbe', 'c2c2fe38-cc6e-471f-9efc-2bf0d9b398d9', '62e23d52-d065-4e8c-b7ac-469e112328d2')\n",
      "2024-02-26 20:58:15,215 INFO sqlalchemy.engine.Engine INSERT INTO connections (head_id, tail_id, document_id, id) VALUES (?, ?, ?, ?), (?, ?, ?, ?), (?, ?, ?, ?), (?, ?, ?, ?), (?, ?, ?, ?), (?, ?, ?, ?), (?, ?, ?, ?), (?, ?, ?, ?), (?, ?, ?, ?), (?, ?, ?, ?), (?, ?, ?, ?), (?, ?, ?, ?), (?, ?, ?, ?), ( ... 933 characters truncated ... ?), (?, ?, ?, ?), (?, ?, ?, ?), (?, ?, ?, ?), (?, ?, ?, ?), (?, ?, ?, ?), (?, ?, ?, ?), (?, ?, ?, ?)\n",
      "2024-02-26 20:58:15,215 INFO sqlalchemy.engine.Engine [insertmanyvalues 3/3 (unordered)] ('bb8b7e8a-9b14-487a-a8b9-e6cb218a9d66', '2fc4445b-194b-4cee-b62f-98aec60d4e4b', 'c2c2fe38-cc6e-471f-9efc-2bf0d9b398d9', '4d114c93-ef45-481f-8f1a-10544ffe1460', 'bb8b7e8a-9b14-487a-a8b9-e6cb218a9d66', '074aea7d-cad9-4ef7-9742-f52fe972add0', 'c2c2fe38-cc6e-471f-9efc-2bf0d9b398d9', '89cf5599-4055-4b4f-af68-8680b13530f2', '6cdb9c5f-712c-44aa-a3ac-86813f26202d', '281cd709-92d5-48dc-8e44-b3b0f7182f55', 'c2c2fe38-cc6e-471f-9efc-2bf0d9b398d9', 'a2ab859d-7e19-4e03-86a1-436dcd84633d', '6cdb9c5f-712c-44aa-a3ac-86813f26202d', '29e1f1b3-f833-4ad7-b703-5a651d181437', 'c2c2fe38-cc6e-471f-9efc-2bf0d9b398d9', 'f958f64b-d739-438a-91fc-f597de2208c2', '6cdb9c5f-712c-44aa-a3ac-86813f26202d', '3e809468-f378-40ed-b5e9-2b12c5ded796', 'c2c2fe38-cc6e-471f-9efc-2bf0d9b398d9', '725ffb8b-7252-4c49-b912-a3e27512a0ac', '6cdb9c5f-712c-44aa-a3ac-86813f26202d', 'c5131277-285b-4d71-8868-ac184fb71141', 'c2c2fe38-cc6e-471f-9efc-2bf0d9b398d9', 'e49d30cb-85e0-4b91-9be5-cad5ee521636', '6cdb9c5f-712c-44aa-a3ac-86813f26202d', '4eb60558-a38c-4440-8a02-62cedfd5f38d', 'c2c2fe38-cc6e-471f-9efc-2bf0d9b398d9', 'efb9246f-d85c-4155-a9b9-9db293ce03af', '4eb60558-a38c-4440-8a02-62cedfd5f38d', '9c401d99-8a0c-4454-b9b0-1aa102974cb9', 'c2c2fe38-cc6e-471f-9efc-2bf0d9b398d9', 'cc24c013-88a1-4779-b96a-bb77f2b12c11', '6cdb9c5f-712c-44aa-a3ac-86813f26202d', '78c15515-3c5a-4dbc-9a29-74f4691c99b7', 'c2c2fe38-cc6e-471f-9efc-2bf0d9b398d9', 'd87aa88b-52a0-4822-a2d3-fbff55e87d8f', '6cdb9c5f-712c-44aa-a3ac-86813f26202d', '739812a5-aa35-491b-9308-b64c94d978b5', 'c2c2fe38-cc6e-471f-9efc-2bf0d9b398d9', '939e8a87-6ea1-47ae-b640-9eddad84d1ae', '6cdb9c5f-712c-44aa-a3ac-86813f26202d', '78c91dc7-2624-45bc-bc16-a0cd2ac93ffd', 'c2c2fe38-cc6e-471f-9efc-2bf0d9b398d9', '9b549cc6-7534-4ece-b413-ab8170902780', '78c91dc7-2624-45bc-bc16-a0cd2ac93ffd', '8ffe6632-fb40-4ed9-ab6c-81d138adf98f', 'c2c2fe38-cc6e-471f-9efc-2bf0d9b398d9', 'ed06e1d1-9090-42b3-a2ea-a148131aa3ee', '78c91dc7-2624-45bc-bc16-a0cd2ac93ffd', 'e35715d0-b7e3-4254-98dd-ea470a45e712' ... 248 parameters truncated ... '483e28f2-b723-4d21-adfc-da375fc126fa', '74fd7512-93ce-418b-ab64-15fc9c6c6cf7', 'f6750561-f09a-4d01-9c58-8925565aff6f', '8377a2b1-1045-40de-a347-0cd50a052b58', '483e28f2-b723-4d21-adfc-da375fc126fa', '4417ab7e-46ae-451a-a6db-a36808938b43', 'e45cd39c-c3f6-4981-abac-c5c01a3a121a', '86af9d86-0123-4aa5-b0ed-f271047d3f88', '483e28f2-b723-4d21-adfc-da375fc126fa', '2a5a5bde-b544-4736-9395-99719a6d808d', 'e45cd39c-c3f6-4981-abac-c5c01a3a121a', 'a9d15ab5-458a-42b3-802d-adcb0f68a72e', '483e28f2-b723-4d21-adfc-da375fc126fa', 'c43853b9-298c-4d56-ab8e-6214f872a290', 'a9d15ab5-458a-42b3-802d-adcb0f68a72e', '08f459ad-605f-4970-b7b1-b9fb15d8e935', '483e28f2-b723-4d21-adfc-da375fc126fa', 'f27f958f-d348-4a88-810e-74862155c9eb', 'a9d15ab5-458a-42b3-802d-adcb0f68a72e', 'c95e6b75-a349-4b65-a00d-3dd2df3dc9a1', '483e28f2-b723-4d21-adfc-da375fc126fa', 'f7d09eb7-03ed-4184-b1fd-c05f84a201bf', 'a9d15ab5-458a-42b3-802d-adcb0f68a72e', 'db8b72fc-207b-45e6-9709-1f48baaabb41', '483e28f2-b723-4d21-adfc-da375fc126fa', '6d857ba2-5ffe-4a03-b571-ca82e0791473', '0e01fa0a-f763-4257-a7c2-134380a1775c', '0b955abc-bfc7-43fc-ae53-c88192ebb43e', '483e28f2-b723-4d21-adfc-da375fc126fa', 'e3b26cb2-4981-446b-9fee-825fe118f67d', '0e01fa0a-f763-4257-a7c2-134380a1775c', '26622d11-6eb2-4eb6-a374-c649660691a2', '483e28f2-b723-4d21-adfc-da375fc126fa', 'a186e83d-57dd-4f66-8071-fc53ef751d1e', '0e01fa0a-f763-4257-a7c2-134380a1775c', 'c01af6ff-e3ff-4fa4-8a1d-1c4eb0db116d', '483e28f2-b723-4d21-adfc-da375fc126fa', '3edb7200-ac7a-47e3-9457-8c8fdb5f46d0', '0e01fa0a-f763-4257-a7c2-134380a1775c', '2986d733-f30f-4c2e-b1e8-e63dbdecbe1e', '483e28f2-b723-4d21-adfc-da375fc126fa', '00553ed0-c0de-43dc-9f45-5d16b61016d5', '2986d733-f30f-4c2e-b1e8-e63dbdecbe1e', '24604ed7-80b8-4651-9301-91dde7a6d9e9', '483e28f2-b723-4d21-adfc-da375fc126fa', '6d805f3d-d1cc-4df9-b4f5-78666c3fd07c', '2986d733-f30f-4c2e-b1e8-e63dbdecbe1e', '59d6945b-6f61-49aa-9a99-f32c44575c24', '483e28f2-b723-4d21-adfc-da375fc126fa', '2f1262d2-98c4-4998-b073-b7328f6c3c75')\n",
      "2024-02-26 20:58:15,242 INFO sqlalchemy.engine.Engine COMMIT\n"
     ]
    }
   ],
   "source": [
    "from new_extractor import DocumentGraphExtractor\n",
    "from sqlalchemy.orm import Session\n",
    "\n",
    "files = os.listdir('../data')\n",
    "with Session(engine) as session:\n",
    "    for f in files:\n",
    "        with open(os.path.join('../data', f), 'r') as file:\n",
    "            text = file.read()\n",
    "            doc = Document(text=text, name=f)\n",
    "            session.add(doc)\n",
    "            extractor = DocumentGraphExtractor(doc)\n",
    "            nodes, edges = extractor.extract_from_text()\n",
    "            for node in nodes:\n",
    "                session.add(node)\n",
    "            for edge in edges:\n",
    "                session.add(edge)\n",
    "                \n",
    "    session.commit()\n",
    "    session.close()"
   ],
   "metadata": {
    "collapsed": false,
    "ExecuteTime": {
     "end_time": "2024-02-26T13:58:15.277630Z",
     "start_time": "2024-02-26T13:57:15.443143Z"
    }
   },
   "id": "8bbc916f59a96e2b",
   "execution_count": 2
  },
  {
   "cell_type": "code",
   "outputs": [
    {
     "name": "stdout",
     "output_type": "stream",
     "text": [
      "2024-02-26 20:58:15,266 INFO sqlalchemy.engine.Engine BEGIN (implicit)\n",
      "2024-02-26 20:58:15,267 INFO sqlalchemy.engine.Engine SELECT connections.head_id AS connections_head_id, connections.tail_id AS connections_tail_id, connections.document_id AS connections_document_id, connections.id AS connections_id \n",
      "FROM connections\n",
      "2024-02-26 20:58:15,267 INFO sqlalchemy.engine.Engine [generated in 0.00048s] ()\n",
      "2024-02-26 20:58:15,279 INFO sqlalchemy.engine.Engine ROLLBACK\n"
     ]
    }
   ],
   "source": [
    "with Session(engine) as session:\n",
    "    connections = session.query(Connection).all()"
   ],
   "metadata": {
    "collapsed": false,
    "ExecuteTime": {
     "end_time": "2024-02-26T13:58:15.351027Z",
     "start_time": "2024-02-26T13:58:15.267046Z"
    }
   },
   "id": "48e64c31d97857c4",
   "execution_count": 3
  }
 ],
 "metadata": {
  "kernelspec": {
   "display_name": "Python 3",
   "language": "python",
   "name": "python3"
  },
  "language_info": {
   "codemirror_mode": {
    "name": "ipython",
    "version": 2
   },
   "file_extension": ".py",
   "mimetype": "text/x-python",
   "name": "python",
   "nbconvert_exporter": "python",
   "pygments_lexer": "ipython2",
   "version": "2.7.6"
  }
 },
 "nbformat": 4,
 "nbformat_minor": 5
}
